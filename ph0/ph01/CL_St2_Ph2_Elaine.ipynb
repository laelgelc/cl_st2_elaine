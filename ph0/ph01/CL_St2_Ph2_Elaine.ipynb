{
 "cells": [
  {
   "cell_type": "markdown",
   "id": "810d9f10-ec19-4b09-8f90-e983e460b319",
   "metadata": {},
   "source": [
    "<center>\n",
    "<img src=\"https://laelgelcpublic.s3.sa-east-1.amazonaws.com/lael_50_years_narrow_white.png.no_years.400px_96dpi.png\" width=\"300\" alt=\"LAEL 50 years logo\">\n",
    "<h3>APPLIED LINGUISTICS GRADUATE PROGRAMME (LAEL)</h3>\n",
    "</center>\n",
    "<hr>"
   ]
  },
  {
   "cell_type": "markdown",
   "id": "888c2c96-2fc3-4a1a-995b-c388036a2a15",
   "metadata": {},
   "source": [
    "# Corpus Linguistics - Study 2 - Phase 2 - Elaine"
   ]
  },
  {
   "cell_type": "markdown",
   "id": "7a9c2af7-9fc1-4f51-a4f5-2ed915b93039",
   "metadata": {},
   "source": [
    "## [TED Talks](https://www.ted.com/talks) data extraction"
   ]
  },
  {
   "cell_type": "markdown",
   "id": "60552836-4e24-45fa-a537-692248055ea1",
   "metadata": {},
   "source": [
    "Considering the period 2020 to 2025 (raw data extracted on 14/03/2025 at 11:38 am Brasilia)."
   ]
  },
  {
   "cell_type": "markdown",
   "id": "a685d8b0-7715-45a6-9489-2d3db9b346c8",
   "metadata": {},
   "source": [
    "## Required Python packages"
   ]
  },
  {
   "cell_type": "markdown",
   "id": "c0e16e73-b1b9-4838-8cce-a29dc300868e",
   "metadata": {},
   "source": [
    "- beautifulsoup4\n",
    "- lxml\n",
    "- pandas"
   ]
  },
  {
   "cell_type": "markdown",
   "id": "aa922755-c4d6-4008-9aad-d35e33b18ed7",
   "metadata": {},
   "source": [
    "## Importing the required libraries"
   ]
  },
  {
   "cell_type": "code",
   "execution_count": 1,
   "id": "06ebcaf3-5b41-474c-9394-ebc8bec9005f",
   "metadata": {},
   "outputs": [],
   "source": [
    "from bs4 import BeautifulSoup\n",
    "import pandas as pd\n",
    "import json\n",
    "import os\n",
    "import requests\n",
    "import logging\n",
    "from requests.adapters import HTTPAdapter\n",
    "from requests.packages.urllib3.util.retry import Retry"
   ]
  },
  {
   "cell_type": "markdown",
   "id": "1c9a9a2a-6063-4a1e-b950-35fdb5021c1d",
   "metadata": {},
   "source": [
    "## Defining input variables"
   ]
  },
  {
   "cell_type": "code",
   "execution_count": 2,
   "id": "2d66d287-0440-4bf8-8fb0-a79835e733db",
   "metadata": {},
   "outputs": [],
   "source": [
    "html_talks_dir = 'html_talks'\n",
    "txt_dir = 'txt'\n",
    "input_file = 'valid_urls'\n",
    "log_filename = 'cl_st2_elaine.log'"
   ]
  },
  {
   "cell_type": "markdown",
   "id": "c8c84148-6947-4319-b18d-1826834d6a13",
   "metadata": {},
   "source": [
    "## Setting up logging"
   ]
  },
  {
   "cell_type": "code",
   "execution_count": 3,
   "id": "c108f4dc-e37e-4381-b83b-9a22f6056dbf",
   "metadata": {},
   "outputs": [],
   "source": [
    "logging.basicConfig(\n",
    "    level=logging.INFO,\n",
    "    format='%(asctime)s - %(levelname)s - %(message)s',\n",
    "    filename = log_filename\n",
    ")"
   ]
  },
  {
   "cell_type": "markdown",
   "id": "9e160e06-749c-46f1-b622-7848f49ae8ff",
   "metadata": {},
   "source": [
    "## Creating output directories"
   ]
  },
  {
   "cell_type": "code",
   "execution_count": 5,
   "id": "5bb6265c-587f-4675-b267-67f141b6d717",
   "metadata": {},
   "outputs": [],
   "source": [
    "# Check if the output directory already exists. If it does, do nothing. If it doesn't exist, create it.\n",
    "if os.path.exists(html_talks_dir):\n",
    "    logging.info(f\"Output directory {html_talks_dir} already exists.\")\n",
    "else:\n",
    "    try:\n",
    "        os.makedirs(html_talks_dir)\n",
    "        logging.info(f\"Output directory {html_talks_dir} successfully created.\")\n",
    "    except OSError as e:\n",
    "        logging.error(f\"Failed to create the {html_talks_dir} directory:\", e)\n",
    "        sys.exit(1)\n",
    "\n",
    "\n",
    "if os.path.exists(txt_dir):\n",
    "    logging.info(f\"Output directory {txt_dir} already exists.\")\n",
    "else:\n",
    "    try:\n",
    "        os.makedirs(txt_dir)\n",
    "        logging.info(f\"Output directory {txt_dir} successfully created.\")\n",
    "    except OSError as e:\n",
    "        logging.error(f\"Failed to create the {txt_dir} directory:\", e)\n",
    "        sys.exit(1)"
   ]
  },
  {
   "cell_type": "markdown",
   "id": "bd1d78b7-9198-4590-a6d2-429d6f35e3e9",
   "metadata": {},
   "source": [
    "## Importing the data into a DataFrame"
   ]
  },
  {
   "cell_type": "code",
   "execution_count": 6,
   "id": "fb8615c9-367f-4f08-9471-70c3d0f155e4",
   "metadata": {},
   "outputs": [],
   "source": [
    "df_tedtalks_urls3 = pd.read_csv(input_file, sep='\\t', header=None)\n",
    "df_tedtalks_urls3.columns = ['File ID', 'TED Talks URL']"
   ]
  },
  {
   "cell_type": "code",
   "execution_count": 7,
   "id": "de02be20-c237-4004-bba2-a784d8d026cb",
   "metadata": {},
   "outputs": [],
   "source": [
    "# Ensure the 'File ID' column is treated as strings\n",
    "df_tedtalks_urls3['File ID'] = df_tedtalks_urls3['File ID'].astype('str')"
   ]
  },
  {
   "cell_type": "code",
   "execution_count": 8,
   "id": "18da1599-49ab-434b-a187-8030a2188c44",
   "metadata": {},
   "outputs": [],
   "source": [
    "# Pad the values in the 'File ID' column with leading zeros to make them 6 digits\n",
    "df_tedtalks_urls3['File ID'] = df_tedtalks_urls3['File ID'].str.zfill(6)"
   ]
  },
  {
   "cell_type": "code",
   "execution_count": 9,
   "id": "dee6d978-e14f-4396-8eef-214dfd691afe",
   "metadata": {},
   "outputs": [
    {
     "data": {
      "text/plain": [
       "File ID          object\n",
       "TED Talks URL    object\n",
       "dtype: object"
      ]
     },
     "execution_count": 9,
     "metadata": {},
     "output_type": "execute_result"
    }
   ],
   "source": [
    "df_tedtalks_urls3.dtypes"
   ]
  },
  {
   "cell_type": "code",
   "execution_count": 10,
   "id": "844a5772-bfb9-4fbf-9a87-a03844996069",
   "metadata": {},
   "outputs": [
    {
     "data": {
      "text/html": [
       "<div>\n",
       "<style scoped>\n",
       "    .dataframe tbody tr th:only-of-type {\n",
       "        vertical-align: middle;\n",
       "    }\n",
       "\n",
       "    .dataframe tbody tr th {\n",
       "        vertical-align: top;\n",
       "    }\n",
       "\n",
       "    .dataframe thead th {\n",
       "        text-align: right;\n",
       "    }\n",
       "</style>\n",
       "<table border=\"1\" class=\"dataframe\">\n",
       "  <thead>\n",
       "    <tr style=\"text-align: right;\">\n",
       "      <th></th>\n",
       "      <th>File ID</th>\n",
       "      <th>TED Talks URL</th>\n",
       "    </tr>\n",
       "  </thead>\n",
       "  <tbody>\n",
       "    <tr>\n",
       "      <th>0</th>\n",
       "      <td>000001</td>\n",
       "      <td>https://www.ted.com/talks/alex_gendler_a_brief...</td>\n",
       "    </tr>\n",
       "    <tr>\n",
       "      <th>1</th>\n",
       "      <td>000002</td>\n",
       "      <td>https://www.ted.com/talks/alex_gendler_a_day_i...</td>\n",
       "    </tr>\n",
       "    <tr>\n",
       "      <th>2</th>\n",
       "      <td>000003</td>\n",
       "      <td>https://www.ted.com/talks/alex_gendler_can_you...</td>\n",
       "    </tr>\n",
       "    <tr>\n",
       "      <th>3</th>\n",
       "      <td>000004</td>\n",
       "      <td>https://www.ted.com/talks/andrew_marantz_insid...</td>\n",
       "    </tr>\n",
       "    <tr>\n",
       "      <th>4</th>\n",
       "      <td>000005</td>\n",
       "      <td>https://www.ted.com/talks/anne_f_broadbridge_t...</td>\n",
       "    </tr>\n",
       "    <tr>\n",
       "      <th>...</th>\n",
       "      <td>...</td>\n",
       "      <td>...</td>\n",
       "    </tr>\n",
       "    <tr>\n",
       "      <th>3974</th>\n",
       "      <td>003975</td>\n",
       "      <td>https://www.ted.com/talks/steve_truglia_a_leap...</td>\n",
       "    </tr>\n",
       "    <tr>\n",
       "      <th>3975</th>\n",
       "      <td>003976</td>\n",
       "      <td>https://www.ted.com/talks/stewart_brand_procla...</td>\n",
       "    </tr>\n",
       "    <tr>\n",
       "      <th>3976</th>\n",
       "      <td>003977</td>\n",
       "      <td>https://www.ted.com/talks/tom_wujec_on_3_ways_...</td>\n",
       "    </tr>\n",
       "    <tr>\n",
       "      <th>3977</th>\n",
       "      <td>003978</td>\n",
       "      <td>https://www.ted.com/talks/vishal_vaid_s_hypnot...</td>\n",
       "    </tr>\n",
       "    <tr>\n",
       "      <th>3978</th>\n",
       "      <td>003979</td>\n",
       "      <td>https://www.ted.com/talks/willard_wigan_hold_y...</td>\n",
       "    </tr>\n",
       "  </tbody>\n",
       "</table>\n",
       "<p>3979 rows × 2 columns</p>\n",
       "</div>"
      ],
      "text/plain": [
       "     File ID                                      TED Talks URL\n",
       "0     000001  https://www.ted.com/talks/alex_gendler_a_brief...\n",
       "1     000002  https://www.ted.com/talks/alex_gendler_a_day_i...\n",
       "2     000003  https://www.ted.com/talks/alex_gendler_can_you...\n",
       "3     000004  https://www.ted.com/talks/andrew_marantz_insid...\n",
       "4     000005  https://www.ted.com/talks/anne_f_broadbridge_t...\n",
       "...      ...                                                ...\n",
       "3974  003975  https://www.ted.com/talks/steve_truglia_a_leap...\n",
       "3975  003976  https://www.ted.com/talks/stewart_brand_procla...\n",
       "3976  003977  https://www.ted.com/talks/tom_wujec_on_3_ways_...\n",
       "3977  003978  https://www.ted.com/talks/vishal_vaid_s_hypnot...\n",
       "3978  003979  https://www.ted.com/talks/willard_wigan_hold_y...\n",
       "\n",
       "[3979 rows x 2 columns]"
      ]
     },
     "execution_count": 10,
     "metadata": {},
     "output_type": "execute_result"
    }
   ],
   "source": [
    "df_tedtalks_urls3"
   ]
  },
  {
   "cell_type": "markdown",
   "id": "f4ee0ddf-df80-445d-8ddf-3e08398a01cc",
   "metadata": {},
   "source": [
    "## Getting the `TED Talks` URLs"
   ]
  },
  {
   "cell_type": "code",
   "execution_count": null,
   "id": "93adbc47-64c3-4562-b21d-82ade3c1e771",
   "metadata": {},
   "outputs": [],
   "source": [
    "# Retry mechanism setup\n",
    "retry_strategy = Retry(\n",
    "    total=3,  # Retry up to 3 times\n",
    "    backoff_factor=2,  # Exponential backoff: wait 2s, 4s, 8s...\n",
    "    status_forcelist=[429, 500, 502, 503, 504],  # Retry on these HTTP error codes\n",
    ")\n",
    "adapter = HTTPAdapter(max_retries=retry_strategy)\n",
    "http = requests.Session()\n",
    "http.mount(\"https://\", adapter)\n",
    "\n",
    "# Loop through the DataFrame rows\n",
    "for _, row in df_tedtalks_urls3.iterrows():\n",
    "    file_id = row['File ID']  # Get the File ID\n",
    "    url = row['TED Talks URL']  # Get the URL\n",
    "\n",
    "    try:\n",
    "        # Log the start of the request\n",
    "        logging.info(f\"Fetching HTML for File ID: {file_id} from URL: {url}\")\n",
    "\n",
    "        # Fetch the HTML content from the URL\n",
    "        response = http.get(url)\n",
    "        response.raise_for_status()  # Raise an exception for HTTP errors\n",
    "\n",
    "        # Save the HTML content to a file in the 'html_talks' directory\n",
    "        file_path = os.path.join(html_talks_dir, f\"{file_id}.html\")\n",
    "        with open(file_path, 'w', encoding='utf-8') as html_file:\n",
    "            html_file.write(response.text)\n",
    "\n",
    "        # Log success\n",
    "        logging.info(f\"Successfully saved HTML for File ID: {file_id} to {file_path}\")\n",
    "\n",
    "    except requests.exceptions.RequestException as e:\n",
    "        # Log any failures or retries\n",
    "        logging.error(f\"Failed to fetch HTML for File ID: {file_id} from URL: {url}: {e}\")"
   ]
  },
  {
   "cell_type": "markdown",
   "id": "acf81447-a578-4d36-9193-d3c7f3c3090d",
   "metadata": {},
   "source": [
    "### Adapting the programme for command line"
   ]
  },
  {
   "cell_type": "markdown",
   "id": "1338c41f-ecd1-4369-b8a2-7a56ac39ab41",
   "metadata": {},
   "source": [
    "The programme was named `geturls.py`."
   ]
  },
  {
   "cell_type": "code",
   "execution_count": null,
   "id": "e3b07027-b599-448a-8305-898222594e61",
   "metadata": {},
   "outputs": [],
   "source": [
    "import pandas as pd\n",
    "import os\n",
    "import requests\n",
    "import logging\n",
    "from requests.adapters import HTTPAdapter\n",
    "from requests.packages.urllib3.util.retry import Retry\n",
    "\n",
    "def main():\n",
    "    # Defining input variables\n",
    "    html_talks_dir = 'html_talks'\n",
    "    input_file = 'valid_urls'\n",
    "    log_filename = 'cl_st2_elaine.log'\n",
    "    \n",
    "    # Setting up logging\n",
    "    logging.basicConfig(\n",
    "        level=logging.INFO,\n",
    "        format='%(asctime)s - %(levelname)s - %(message)s',\n",
    "        filename = log_filename\n",
    "    )\n",
    "\n",
    "    # Creating output directories\n",
    "    if os.path.exists(html_talks_dir):\n",
    "        logging.info(f\"Output directory {html_talks_dir} already exists.\")\n",
    "    else:\n",
    "        try:\n",
    "            os.makedirs(html_talks_dir)\n",
    "            logging.info(f\"Output directory {html_talks_dir} successfully created.\")\n",
    "        except OSError as e:\n",
    "            logging.error(f\"Failed to create the {html_talks_dir} directory:\", e)\n",
    "            sys.exit(1)\n",
    "        \n",
    "    # Importing the data into a DataFrame\n",
    "    df_tedtalks_urls3 = pd.read_csv(input_file, sep='\\t', header=None)\n",
    "    df_tedtalks_urls3.columns = ['File ID', 'TED Talks URL']\n",
    "    \n",
    "    # Ensure the 'File ID' column is treated as strings\n",
    "    df_tedtalks_urls3['File ID'] = df_tedtalks_urls3['File ID'].astype('str')\n",
    "    \n",
    "    # Pad the values in the 'File ID' column with leading zeros to make them 6 digits\n",
    "    df_tedtalks_urls3['File ID'] = df_tedtalks_urls3['File ID'].str.zfill(6)\n",
    "    \n",
    "    # Getting the `TED Talks` URLs\n",
    "    # Retry mechanism setup\n",
    "    retry_strategy = Retry(\n",
    "        total=3,  # Retry up to 3 times\n",
    "        backoff_factor=2,  # Exponential backoff: wait 2s, 4s, 8s...\n",
    "        status_forcelist=[429, 500, 502, 503, 504],  # Retry on these HTTP error codes\n",
    "    )\n",
    "    adapter = HTTPAdapter(max_retries=retry_strategy)\n",
    "    http = requests.Session()\n",
    "    http.mount(\"https://\", adapter)\n",
    "    \n",
    "    # Loop through the DataFrame rows\n",
    "    for _, row in df_tedtalks_urls3.iterrows():\n",
    "        file_id = row['File ID']  # Get the File ID\n",
    "        url = row['TED Talks URL']  # Get the URL\n",
    "    \n",
    "        try:\n",
    "            # Log the start of the request\n",
    "            logging.info(f\"Fetching HTML for File ID: {file_id} from URL: {url}\")\n",
    "    \n",
    "            # Fetch the HTML content from the URL\n",
    "            response = http.get(url)\n",
    "            response.raise_for_status()  # Raise an exception for HTTP errors\n",
    "    \n",
    "            # Save the HTML content to a file in the 'html_talks' directory\n",
    "            file_path = os.path.join(html_talks_dir, f\"{file_id}.html\")\n",
    "            with open(file_path, 'w', encoding='utf-8') as html_file:\n",
    "                html_file.write(response.text)\n",
    "    \n",
    "            # Log success\n",
    "            logging.info(f\"Successfully saved HTML for File ID: {file_id} to {file_path}\")\n",
    "    \n",
    "        except requests.exceptions.RequestException as e:\n",
    "            # Log any failures or retries\n",
    "            logging.error(f\"Failed to fetch HTML for File ID: {file_id} from URL: {url}: {e}\")\n",
    "\n",
    "if __name__ == \"__main__\":\n",
    "    main()"
   ]
  },
  {
   "cell_type": "markdown",
   "id": "07caf880-d799-4617-8103-876cb645fe93",
   "metadata": {},
   "source": [
    "## Scraping the `TED Talks` URLs"
   ]
  },
  {
   "cell_type": "code",
   "execution_count": null,
   "id": "c999e5dc-24f4-424c-8b3e-dc63792fb42f",
   "metadata": {},
   "outputs": [],
   "source": [
    "# Directory containing the HTML files\n",
    "html_dir = 'html_talks'\n",
    "#html_dir = 'html_talks_back'\n",
    "\n",
    "# Initialize new columns\n",
    "new_columns = ['Speaker', 'Title', 'Duration', 'Tags', 'Views', 'Year', 'Talk', 'Video', 'Event', 'TED_ID']\n",
    "for col in new_columns:\n",
    "    df_tedtalks_urls3[col] = None\n",
    "\n",
    "# Process each row\n",
    "for idx, row in df_tedtalks_urls3.iterrows():\n",
    "    file_id = row['File ID']\n",
    "    file_path = f\"{html_dir}/{file_id}.html\"\n",
    "    \n",
    "    # Open and parse the HTML file\n",
    "    try:\n",
    "        with open(file_path, 'r', encoding='utf-8') as file:\n",
    "            soup = BeautifulSoup(file, 'lxml')\n",
    "    except FileNotFoundError:\n",
    "        print(f\"File {file_path} not found. Skipping...\")\n",
    "        continue\n",
    "\n",
    "    # Extract JSON content from <script> tags\n",
    "    script_tag = soup.find('script', {'type': 'application/json'})\n",
    "    if script_tag:\n",
    "        try:\n",
    "            json_content = json.loads(script_tag.string)\n",
    "\n",
    "            # Navigate to videoData\n",
    "            video_data = json_content['props']['pageProps']['videoData']\n",
    "\n",
    "            # Parse the playerData string into a dictionary\n",
    "            player_data = json.loads(video_data.get('playerData', '{}'))\n",
    "\n",
    "            # Fill the new columns with the extracted data\n",
    "            df_tedtalks_urls3.at[idx, 'Speaker'] = player_data.get('speaker')\n",
    "            df_tedtalks_urls3.at[idx, 'Title'] = player_data.get('title')\n",
    "            df_tedtalks_urls3.at[idx, 'Duration'] = player_data.get('duration')\n",
    "            df_tedtalks_urls3.at[idx, 'Tags'] = video_data.get('targeting', {}).get('tag')\n",
    "            df_tedtalks_urls3.at[idx, 'Views'] = video_data.get('viewedCount')\n",
    "            df_tedtalks_urls3.at[idx, 'Year'] = video_data.get('targeting', {}).get('year')\n",
    "            df_tedtalks_urls3.at[idx, 'Talk'] = video_data.get('targeting', {}).get('talk')\n",
    "\n",
    "            # Handle Video (h264 resource)\n",
    "            h264_resources = player_data.get('resources', {}).get('h264', [])\n",
    "            if isinstance(h264_resources, list) and len(h264_resources) > 0:\n",
    "                df_tedtalks_urls3.at[idx, 'Video'] = h264_resources[0].get('file')\n",
    "            else:\n",
    "                df_tedtalks_urls3.at[idx, 'Video'] = None\n",
    "\n",
    "            df_tedtalks_urls3.at[idx, 'Event'] = video_data.get('targeting', {}).get('event')\n",
    "            df_tedtalks_urls3.at[idx, 'TED_ID'] = video_data.get('targeting', {}).get('id')\n",
    "        except (KeyError, json.JSONDecodeError) as e:\n",
    "            print(f\"Error parsing JSON in file {file_path}: {e}\")\n",
    "    else:\n",
    "        print(f\"No suitable <script> tag found in {file_path}\")\n",
    "\n",
    "# Display the updated DataFrame\n",
    "print(df_tedtalks_urls3)\n"
   ]
  },
  {
   "cell_type": "markdown",
   "id": "446a355a-598e-4f1e-bfda-e2af3592b693",
   "metadata": {},
   "source": [
    "### Scraping the input HTML file"
   ]
  },
  {
   "cell_type": "code",
   "execution_count": null,
   "id": "de641236-0add-4836-88c0-f57f24fe558a",
   "metadata": {},
   "outputs": [],
   "source": [
    "with open(f'{input_directory}/{input_file}', 'r', encoding='utf8', newline='\\n') as html_doc:\n",
    "    soup = BeautifulSoup(html_doc, 'lxml')"
   ]
  },
  {
   "cell_type": "code",
   "execution_count": null,
   "id": "422524ba-d3c0-4369-bb9c-aa4eaf0d0296",
   "metadata": {},
   "outputs": [],
   "source": [
    "# Find all 'a' tags with the class 'relative'\n",
    "tedtalks_urls = soup.find_all('a', class_='relative')"
   ]
  },
  {
   "cell_type": "code",
   "execution_count": null,
   "id": "d497a024-6dcd-4334-b18c-a114b63cc45c",
   "metadata": {},
   "outputs": [],
   "source": [
    "# Extract the 'href' attribute of each link and store them in a list\n",
    "tedtalks_urls_list = [tedtalks_url.get('href') for tedtalks_url in tedtalks_urls if tedtalks_url.get('href')]"
   ]
  },
  {
   "cell_type": "markdown",
   "id": "172bcbb3-66f8-4038-9d37-dbd0685290d4",
   "metadata": {},
   "source": [
    "### Exporting the data into a DataFrame"
   ]
  },
  {
   "cell_type": "code",
   "execution_count": null,
   "id": "3fcee3e8-c0a8-4136-b6e8-bffb7e72dc96",
   "metadata": {},
   "outputs": [],
   "source": [
    "# Create a Pandas DataFrame from the list of links\n",
    "df_tedtalks_urls1 = pd.DataFrame(tedtalks_urls_list, columns=['TED Talks URL'])\n",
    "\n",
    "# Filter the DataFrame to keep only rows where 'TED Talks URL' contains 'https://www.ted.com/talks/'\n",
    "df_tedtalks_urls1 = df_tedtalks_urls1[df_tedtalks_urls1['TED Talks URL'].str.contains('https://www.ted.com/talks/')]\n",
    "df_tedtalks_urls1 = df_tedtalks_urls1.reset_index(drop=True)"
   ]
  },
  {
   "cell_type": "code",
   "execution_count": null,
   "id": "5b852ac0-6c2c-4c4f-b753-6047f530e91b",
   "metadata": {},
   "outputs": [],
   "source": [
    "# Append '/transcript?language=en' to each 'TED Talks URL'\n",
    "df_tedtalks_urls1['TED Talks URL'] = df_tedtalks_urls1['TED Talks URL'] + '/transcript?language=en'"
   ]
  },
  {
   "cell_type": "code",
   "execution_count": null,
   "id": "527823c3-a548-488f-bd9b-bdf47321a2c6",
   "metadata": {},
   "outputs": [],
   "source": [
    "df_tedtalks_urls1"
   ]
  },
  {
   "cell_type": "markdown",
   "id": "ec3362ea-0087-498a-917f-f4f146ffb810",
   "metadata": {},
   "source": [
    "### Inspecting a few rows"
   ]
  },
  {
   "cell_type": "code",
   "execution_count": null,
   "id": "8d30f1ac-ce86-4242-a164-beac4ac5bce0",
   "metadata": {},
   "outputs": [],
   "source": [
    "df_tedtalks_urls1.loc[1000, 'TED Talks URL']"
   ]
  },
  {
   "cell_type": "markdown",
   "id": "62c8a4fc-3842-4aaa-9aa0-3c85f59a60ee",
   "metadata": {},
   "source": [
    "## Importing the previous study's `TED Talks` URLs"
   ]
  },
  {
   "cell_type": "code",
   "execution_count": null,
   "id": "0060001d-0087-41e2-95a8-bd3cebb2f708",
   "metadata": {},
   "outputs": [],
   "source": [
    "# Read the CSV file into a DataFrame, specifying the TAB character as the delimiter\n",
    "df_tedtalks_urls2 = pd.read_csv('previous_study_valid_urls', delimiter='\\t', header=None)\n",
    "\n",
    "# Define the column name\n",
    "df_tedtalks_urls2.columns = ['File ID', 'TED Talks URL']"
   ]
  },
  {
   "cell_type": "code",
   "execution_count": null,
   "id": "f63e0572-8435-433d-98ac-619716b135b4",
   "metadata": {},
   "outputs": [],
   "source": [
    "df_tedtalks_urls2"
   ]
  },
  {
   "cell_type": "markdown",
   "id": "7b344c44-f45b-430f-9d03-862c509fba08",
   "metadata": {},
   "source": [
    "## Creating `df_tedtalks_urls3` by excluding rows from `df_tedtalks_urls1` that are present in `df_tedtalks_urls2`"
   ]
  },
  {
   "cell_type": "markdown",
   "id": "663b2900-190a-4f52-89ca-3f5dd95309df",
   "metadata": {},
   "source": [
    "The reason for this is to exclude any videos that were considered in the previous study."
   ]
  },
  {
   "cell_type": "code",
   "execution_count": null,
   "id": "14450b8b-eae8-4256-8be7-0854877e1186",
   "metadata": {},
   "outputs": [],
   "source": [
    "df_tedtalks_urls3 = df_tedtalks_urls1[~df_tedtalks_urls1['TED Talks URL'].isin(df_tedtalks_urls2['TED Talks URL'])]\n",
    "df_tedtalks_urls3 = df_tedtalks_urls3.reset_index(drop=True)"
   ]
  },
  {
   "cell_type": "code",
   "execution_count": null,
   "id": "576cce9a-e0e7-49b4-ad15-9df60dcd7385",
   "metadata": {},
   "outputs": [],
   "source": [
    "df_tedtalks_urls3"
   ]
  },
  {
   "cell_type": "markdown",
   "id": "edee1c35-f9f3-4f76-87c5-cdadf4efefe9",
   "metadata": {},
   "source": [
    "### Creating the column 'File ID'"
   ]
  },
  {
   "cell_type": "code",
   "execution_count": null,
   "id": "62a7b602-abbf-4507-9ef1-7d3900b9c301",
   "metadata": {},
   "outputs": [],
   "source": [
    "# Create the 'File ID' column starting from '000001'\n",
    "df_tedtalks_urls3['File ID'] = (df_tedtalks_urls3.index + 1).astype(str).str.zfill(6)"
   ]
  },
  {
   "cell_type": "code",
   "execution_count": null,
   "id": "28ddd68e-9abc-4f0a-970f-0b90e12d4d68",
   "metadata": {},
   "outputs": [],
   "source": [
    "df_tedtalks_urls3"
   ]
  },
  {
   "cell_type": "markdown",
   "id": "25ebf5fe-12f0-48aa-b635-733c53e03fca",
   "metadata": {},
   "source": [
    "## Creating the file `valid_urls`"
   ]
  },
  {
   "cell_type": "code",
   "execution_count": null,
   "id": "5e1092a4-de17-4674-9555-a0980893cf17",
   "metadata": {},
   "outputs": [],
   "source": [
    "df_tedtalks_urls3[['File ID', 'TED Talks URL']].to_csv('valid_urls', sep='\\t', index=False, header=False, encoding='utf-8', lineterminator='\\n')"
   ]
  },
  {
   "cell_type": "markdown",
   "id": "37920da1-47f8-4e22-8dfd-1018a14af5ca",
   "metadata": {},
   "source": [
    "## Adapting the programme for command line"
   ]
  },
  {
   "cell_type": "markdown",
   "id": "dcf37df5-0e34-48c6-ae95-1615a265e04f",
   "metadata": {},
   "source": [
    "The programme was named `buildurls.py`."
   ]
  },
  {
   "cell_type": "code",
   "execution_count": null,
   "id": "e6bdab42-660a-4f41-90ac-3ba862dc0c8b",
   "metadata": {},
   "outputs": [],
   "source": [
    "from bs4 import BeautifulSoup\n",
    "import pandas as pd\n",
    "\n",
    "def main():\n",
    "    # Defining input variables\n",
    "    input_directory = 'indexes'\n",
    "    input_file = 'TED_7061_of_7061_20250314.html'\n",
    "\n",
    "    # Scraping the 'TED Talks' URLs\n",
    "    with open(f'{input_directory}/{input_file}', 'r', encoding='utf8', newline='\\n') as html_doc:\n",
    "        soup = BeautifulSoup(html_doc, 'lxml')\n",
    "\n",
    "    # Find all 'a' tags with the class 'relative'\n",
    "    tedtalks_urls = soup.find_all('a', class_='relative')\n",
    "\n",
    "    # Extract the 'href' attribute of each link and store them in a list\n",
    "    tedtalks_urls_list = [tedtalks_url.get('href') for tedtalks_url in tedtalks_urls if tedtalks_url.get('href')]\n",
    "\n",
    "    # Create a Pandas DataFrame from the list of links\n",
    "    df_tedtalks_urls1 = pd.DataFrame(tedtalks_urls_list, columns=['TED Talks URL'])\n",
    "\n",
    "    # Filter the DataFrame to keep only rows where 'TED Talks URL' contains 'https://www.ted.com/talks/'\n",
    "    df_tedtalks_urls1 = df_tedtalks_urls1[df_tedtalks_urls1['TED Talks URL'].str.contains('https://www.ted.com/talks/')]\n",
    "    df_tedtalks_urls1 = df_tedtalks_urls1.reset_index(drop=True)\n",
    "\n",
    "    # Append '/transcript?language=en' to each 'TED Talks URL'\n",
    "    df_tedtalks_urls1['TED Talks URL'] = df_tedtalks_urls1['TED Talks URL'] + '/transcript?language=en'\n",
    "\n",
    "    # Importing the previous study's TED Talks URLs\n",
    "    df_tedtalks_urls2 = pd.read_csv('previous_study_valid_urls', delimiter='\\t', header=None)\n",
    "    df_tedtalks_urls2.columns = ['File ID', 'TED Talks URL']\n",
    "\n",
    "    # Creating df_tedtalks_urls3 by excluding rows from df_tedtalks_urls1 that are present in df_tedtalks_urls2\n",
    "    df_tedtalks_urls3 = df_tedtalks_urls1[~df_tedtalks_urls1['TED Talks URL'].isin(df_tedtalks_urls2['TED Talks URL'])]\n",
    "    df_tedtalks_urls3 = df_tedtalks_urls3.reset_index(drop=True)\n",
    "\n",
    "    # Create the 'File ID' column starting from '000001'\n",
    "    df_tedtalks_urls3['File ID'] = (df_tedtalks_urls3.index + 1).astype(str).str.zfill(6)\n",
    "\n",
    "    # Creating the file 'valid_urls'\n",
    "    df_tedtalks_urls3[['File ID', 'TED Talks URL']].to_csv('valid_urls', sep='\\t', index=False, header=False, encoding='utf-8', lineterminator='\\n')\n",
    "\n",
    "if __name__ == \"__main__\":\n",
    "    main()"
   ]
  },
  {
   "cell_type": "code",
   "execution_count": null,
   "id": "668b247a-53f4-415d-8358-8143df36ec4e",
   "metadata": {},
   "outputs": [],
   "source": []
  },
  {
   "cell_type": "code",
   "execution_count": null,
   "id": "a5a06097-0636-4340-ba0c-3b0bca5abc33",
   "metadata": {},
   "outputs": [],
   "source": []
  }
 ],
 "metadata": {
  "kernelspec": {
   "display_name": "Python 3 (ipykernel)",
   "language": "python",
   "name": "python3"
  },
  "language_info": {
   "codemirror_mode": {
    "name": "ipython",
    "version": 3
   },
   "file_extension": ".py",
   "mimetype": "text/x-python",
   "name": "python",
   "nbconvert_exporter": "python",
   "pygments_lexer": "ipython3",
   "version": "3.10.12"
  }
 },
 "nbformat": 4,
 "nbformat_minor": 5
}
