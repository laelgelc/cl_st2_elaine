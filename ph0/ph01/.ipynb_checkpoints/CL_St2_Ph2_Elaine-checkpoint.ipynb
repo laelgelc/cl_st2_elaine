{
 "cells": [
  {
   "cell_type": "markdown",
   "id": "810d9f10-ec19-4b09-8f90-e983e460b319",
   "metadata": {},
   "source": [
    "<center>\n",
    "<img src=\"https://laelgelcpublic.s3.sa-east-1.amazonaws.com/lael_50_years_narrow_white.png.no_years.400px_96dpi.png\" width=\"300\" alt=\"LAEL 50 years logo\">\n",
    "<h3>APPLIED LINGUISTICS GRADUATE PROGRAMME (LAEL)</h3>\n",
    "</center>\n",
    "<hr>"
   ]
  },
  {
   "cell_type": "markdown",
   "id": "888c2c96-2fc3-4a1a-995b-c388036a2a15",
   "metadata": {},
   "source": [
    "# Corpus Linguistics - Study 2 - Phase 2 - Elaine"
   ]
  },
  {
   "cell_type": "markdown",
   "id": "7a9c2af7-9fc1-4f51-a4f5-2ed915b93039",
   "metadata": {},
   "source": [
    "## [TED Talks](https://www.ted.com/talks) data extraction"
   ]
  },
  {
   "cell_type": "markdown",
   "id": "60552836-4e24-45fa-a537-692248055ea1",
   "metadata": {},
   "source": [
    "Considering the period 2020 to 2025 (raw data extracted on 14/03/2025 at 11:38 am Brasilia)."
   ]
  },
  {
   "cell_type": "markdown",
   "id": "a685d8b0-7715-45a6-9489-2d3db9b346c8",
   "metadata": {},
   "source": [
    "## Required Python packages"
   ]
  },
  {
   "cell_type": "markdown",
   "id": "c0e16e73-b1b9-4838-8cce-a29dc300868e",
   "metadata": {},
   "source": [
    "- beautifulsoup4\n",
    "- lxml\n",
    "- pandas"
   ]
  },
  {
   "cell_type": "markdown",
   "id": "aa922755-c4d6-4008-9aad-d35e33b18ed7",
   "metadata": {},
   "source": [
    "## Importing the required libraries"
   ]
  },
  {
   "cell_type": "code",
   "execution_count": 1,
   "id": "06ebcaf3-5b41-474c-9394-ebc8bec9005f",
   "metadata": {},
   "outputs": [],
   "source": [
    "from bs4 import BeautifulSoup\n",
    "import pandas as pd\n",
    "import json\n",
    "import os\n",
    "import requests\n",
    "import logging\n",
    "from requests.adapters import HTTPAdapter\n",
    "from requests.packages.urllib3.util.retry import Retry"
   ]
  },
  {
   "cell_type": "markdown",
   "id": "1c9a9a2a-6063-4a1e-b950-35fdb5021c1d",
   "metadata": {},
   "source": [
    "## Defining input variables"
   ]
  },
  {
   "cell_type": "code",
   "execution_count": 2,
   "id": "2d66d287-0440-4bf8-8fb0-a79835e733db",
   "metadata": {},
   "outputs": [],
   "source": [
    "html_talks_dir = 'html_talks'\n",
    "txt_dir = 'txt'\n",
    "input_file = 'valid_urls'\n",
    "log_filename = 'cl_st2_elaine.log'"
   ]
  },
  {
   "cell_type": "markdown",
   "id": "c8c84148-6947-4319-b18d-1826834d6a13",
   "metadata": {},
   "source": [
    "## Setting up logging"
   ]
  },
  {
   "cell_type": "code",
   "execution_count": 3,
   "id": "c108f4dc-e37e-4381-b83b-9a22f6056dbf",
   "metadata": {},
   "outputs": [],
   "source": [
    "logging.basicConfig(\n",
    "    level=logging.INFO,\n",
    "    format='%(asctime)s - %(levelname)s - %(message)s',\n",
    "    filename = log_filename\n",
    ")"
   ]
  },
  {
   "cell_type": "markdown",
   "id": "9e160e06-749c-46f1-b622-7848f49ae8ff",
   "metadata": {},
   "source": [
    "## Creating output directories"
   ]
  },
  {
   "cell_type": "code",
   "execution_count": 5,
   "id": "5bb6265c-587f-4675-b267-67f141b6d717",
   "metadata": {},
   "outputs": [],
   "source": [
    "# Check if the output directory already exists. If it does, do nothing. If it doesn't exist, create it.\n",
    "if os.path.exists(html_talks_dir):\n",
    "    logging.info(f\"Output directory {html_talks_dir} already exists.\")\n",
    "else:\n",
    "    try:\n",
    "        os.makedirs(html_talks_dir)\n",
    "        logging.info(f\"Output directory {html_talks_dir} successfully created.\")\n",
    "    except OSError as e:\n",
    "        logging.error(f\"Failed to create the {html_talks_dir} directory:\", e)\n",
    "        sys.exit(1)\n",
    "\n",
    "\n",
    "if os.path.exists(txt_dir):\n",
    "    logging.info(f\"Output directory {txt_dir} already exists.\")\n",
    "else:\n",
    "    try:\n",
    "        os.makedirs(txt_dir)\n",
    "        logging.info(f\"Output directory {txt_dir} successfully created.\")\n",
    "    except OSError as e:\n",
    "        logging.error(f\"Failed to create the {txt_dir} directory:\", e)\n",
    "        sys.exit(1)"
   ]
  },
  {
   "cell_type": "markdown",
   "id": "bd1d78b7-9198-4590-a6d2-429d6f35e3e9",
   "metadata": {},
   "source": [
    "## Importing the data into a DataFrame"
   ]
  },
  {
   "cell_type": "code",
   "execution_count": 6,
   "id": "fb8615c9-367f-4f08-9471-70c3d0f155e4",
   "metadata": {},
   "outputs": [],
   "source": [
    "df_tedtalks_urls3 = pd.read_csv(input_file, sep='\\t', header=None)\n",
    "df_tedtalks_urls3.columns = ['File ID', 'TED Talks URL']"
   ]
  },
  {
   "cell_type": "code",
   "execution_count": 7,
   "id": "de02be20-c237-4004-bba2-a784d8d026cb",
   "metadata": {},
   "outputs": [],
   "source": [
    "# Ensure the 'File ID' column is treated as strings\n",
    "df_tedtalks_urls3['File ID'] = df_tedtalks_urls3['File ID'].astype('str')"
   ]
  },
  {
   "cell_type": "code",
   "execution_count": 8,
   "id": "18da1599-49ab-434b-a187-8030a2188c44",
   "metadata": {},
   "outputs": [],
   "source": [
    "# Pad the values in the 'File ID' column with leading zeros to make them 6 digits\n",
    "df_tedtalks_urls3['File ID'] = df_tedtalks_urls3['File ID'].str.zfill(6)"
   ]
  },
  {
   "cell_type": "code",
   "execution_count": 9,
   "id": "dee6d978-e14f-4396-8eef-214dfd691afe",
   "metadata": {},
   "outputs": [
    {
     "data": {
      "text/plain": [
       "File ID          object\n",
       "TED Talks URL    object\n",
       "dtype: object"
      ]
     },
     "execution_count": 9,
     "metadata": {},
     "output_type": "execute_result"
    }
   ],
   "source": [
    "df_tedtalks_urls3.dtypes"
   ]
  },
  {
   "cell_type": "code",
   "execution_count": 10,
   "id": "844a5772-bfb9-4fbf-9a87-a03844996069",
   "metadata": {},
   "outputs": [
    {
     "data": {
      "text/html": [
       "<div>\n",
       "<style scoped>\n",
       "    .dataframe tbody tr th:only-of-type {\n",
       "        vertical-align: middle;\n",
       "    }\n",
       "\n",
       "    .dataframe tbody tr th {\n",
       "        vertical-align: top;\n",
       "    }\n",
       "\n",
       "    .dataframe thead th {\n",
       "        text-align: right;\n",
       "    }\n",
       "</style>\n",
       "<table border=\"1\" class=\"dataframe\">\n",
       "  <thead>\n",
       "    <tr style=\"text-align: right;\">\n",
       "      <th></th>\n",
       "      <th>File ID</th>\n",
       "      <th>TED Talks URL</th>\n",
       "    </tr>\n",
       "  </thead>\n",
       "  <tbody>\n",
       "    <tr>\n",
       "      <th>0</th>\n",
       "      <td>000001</td>\n",
       "      <td>https://www.ted.com/talks/alex_gendler_a_brief...</td>\n",
       "    </tr>\n",
       "    <tr>\n",
       "      <th>1</th>\n",
       "      <td>000002</td>\n",
       "      <td>https://www.ted.com/talks/alex_gendler_a_day_i...</td>\n",
       "    </tr>\n",
       "    <tr>\n",
       "      <th>2</th>\n",
       "      <td>000003</td>\n",
       "      <td>https://www.ted.com/talks/alex_gendler_can_you...</td>\n",
       "    </tr>\n",
       "    <tr>\n",
       "      <th>3</th>\n",
       "      <td>000004</td>\n",
       "      <td>https://www.ted.com/talks/andrew_marantz_insid...</td>\n",
       "    </tr>\n",
       "    <tr>\n",
       "      <th>4</th>\n",
       "      <td>000005</td>\n",
       "      <td>https://www.ted.com/talks/anne_f_broadbridge_t...</td>\n",
       "    </tr>\n",
       "    <tr>\n",
       "      <th>...</th>\n",
       "      <td>...</td>\n",
       "      <td>...</td>\n",
       "    </tr>\n",
       "    <tr>\n",
       "      <th>3974</th>\n",
       "      <td>003975</td>\n",
       "      <td>https://www.ted.com/talks/steve_truglia_a_leap...</td>\n",
       "    </tr>\n",
       "    <tr>\n",
       "      <th>3975</th>\n",
       "      <td>003976</td>\n",
       "      <td>https://www.ted.com/talks/stewart_brand_procla...</td>\n",
       "    </tr>\n",
       "    <tr>\n",
       "      <th>3976</th>\n",
       "      <td>003977</td>\n",
       "      <td>https://www.ted.com/talks/tom_wujec_on_3_ways_...</td>\n",
       "    </tr>\n",
       "    <tr>\n",
       "      <th>3977</th>\n",
       "      <td>003978</td>\n",
       "      <td>https://www.ted.com/talks/vishal_vaid_s_hypnot...</td>\n",
       "    </tr>\n",
       "    <tr>\n",
       "      <th>3978</th>\n",
       "      <td>003979</td>\n",
       "      <td>https://www.ted.com/talks/willard_wigan_hold_y...</td>\n",
       "    </tr>\n",
       "  </tbody>\n",
       "</table>\n",
       "<p>3979 rows × 2 columns</p>\n",
       "</div>"
      ],
      "text/plain": [
       "     File ID                                      TED Talks URL\n",
       "0     000001  https://www.ted.com/talks/alex_gendler_a_brief...\n",
       "1     000002  https://www.ted.com/talks/alex_gendler_a_day_i...\n",
       "2     000003  https://www.ted.com/talks/alex_gendler_can_you...\n",
       "3     000004  https://www.ted.com/talks/andrew_marantz_insid...\n",
       "4     000005  https://www.ted.com/talks/anne_f_broadbridge_t...\n",
       "...      ...                                                ...\n",
       "3974  003975  https://www.ted.com/talks/steve_truglia_a_leap...\n",
       "3975  003976  https://www.ted.com/talks/stewart_brand_procla...\n",
       "3976  003977  https://www.ted.com/talks/tom_wujec_on_3_ways_...\n",
       "3977  003978  https://www.ted.com/talks/vishal_vaid_s_hypnot...\n",
       "3978  003979  https://www.ted.com/talks/willard_wigan_hold_y...\n",
       "\n",
       "[3979 rows x 2 columns]"
      ]
     },
     "execution_count": 10,
     "metadata": {},
     "output_type": "execute_result"
    }
   ],
   "source": [
    "df_tedtalks_urls3"
   ]
  },
  {
   "cell_type": "markdown",
   "id": "f4ee0ddf-df80-445d-8ddf-3e08398a01cc",
   "metadata": {},
   "source": [
    "## Getting the `TED Talks` URLs"
   ]
  },
  {
   "cell_type": "code",
   "execution_count": null,
   "id": "93adbc47-64c3-4562-b21d-82ade3c1e771",
   "metadata": {},
   "outputs": [],
   "source": [
    "# Retry mechanism setup\n",
    "retry_strategy = Retry(\n",
    "    total=3,  # Retry up to 3 times\n",
    "    backoff_factor=2,  # Exponential backoff: wait 2s, 4s, 8s...\n",
    "    status_forcelist=[429, 500, 502, 503, 504],  # Retry on these HTTP error codes\n",
    ")\n",
    "adapter = HTTPAdapter(max_retries=retry_strategy)\n",
    "http = requests.Session()\n",
    "http.mount(\"https://\", adapter)\n",
    "\n",
    "# Loop through the DataFrame rows\n",
    "for _, row in df_tedtalks_urls3.iterrows():\n",
    "    file_id = row['File ID']  # Get the File ID\n",
    "    url = row['TED Talks URL']  # Get the URL\n",
    "\n",
    "    try:\n",
    "        # Log the start of the request\n",
    "        logging.info(f\"Fetching HTML for File ID: {file_id} from URL: {url}\")\n",
    "\n",
    "        # Fetch the HTML content from the URL\n",
    "        response = http.get(url)\n",
    "        response.raise_for_status()  # Raise an exception for HTTP errors\n",
    "\n",
    "        # Save the HTML content to a file in the 'html_talks' directory\n",
    "        file_path = os.path.join(html_talks_dir, f\"{file_id}.html\")\n",
    "        with open(file_path, 'w', encoding='utf-8') as html_file:\n",
    "            html_file.write(response.text)\n",
    "\n",
    "        # Log success\n",
    "        logging.info(f\"Successfully saved HTML for File ID: {file_id} to {file_path}\")\n",
    "\n",
    "    except requests.exceptions.RequestException as e:\n",
    "        # Log any failures or retries\n",
    "        logging.error(f\"Failed to fetch HTML for File ID: {file_id} from URL: {url}: {e}\")"
   ]
  },
  {
   "cell_type": "markdown",
   "id": "acf81447-a578-4d36-9193-d3c7f3c3090d",
   "metadata": {},
   "source": [
    "### Adapting the programme for command line"
   ]
  },
  {
   "cell_type": "markdown",
   "id": "1338c41f-ecd1-4369-b8a2-7a56ac39ab41",
   "metadata": {},
   "source": [
    "The programme was named `geturls.py`."
   ]
  },
  {
   "cell_type": "code",
   "execution_count": null,
   "id": "e3b07027-b599-448a-8305-898222594e61",
   "metadata": {},
   "outputs": [],
   "source": [
    "import pandas as pd\n",
    "import os\n",
    "import requests\n",
    "import logging\n",
    "from requests.adapters import HTTPAdapter\n",
    "from requests.packages.urllib3.util.retry import Retry\n",
    "\n",
    "def main():\n",
    "    # Defining input variables\n",
    "    html_talks_dir = 'html_talks'\n",
    "    input_file = 'valid_urls'\n",
    "    log_filename = 'cl_st2_elaine.log'\n",
    "    \n",
    "    # Setting up logging\n",
    "    logging.basicConfig(\n",
    "        level=logging.INFO,\n",
    "        format='%(asctime)s - %(levelname)s - %(message)s',\n",
    "        filename = log_filename\n",
    "    )\n",
    "\n",
    "    # Creating output directories\n",
    "    if os.path.exists(html_talks_dir):\n",
    "        logging.info(f\"Output directory {html_talks_dir} already exists.\")\n",
    "    else:\n",
    "        try:\n",
    "            os.makedirs(html_talks_dir)\n",
    "            logging.info(f\"Output directory {html_talks_dir} successfully created.\")\n",
    "        except OSError as e:\n",
    "            logging.error(f\"Failed to create the {html_talks_dir} directory:\", e)\n",
    "            sys.exit(1)\n",
    "        \n",
    "    # Importing the data into a DataFrame\n",
    "    df_tedtalks_urls3 = pd.read_csv(input_file, sep='\\t', header=None)\n",
    "    df_tedtalks_urls3.columns = ['File ID', 'TED Talks URL']\n",
    "    \n",
    "    # Ensure the 'File ID' column is treated as strings\n",
    "    df_tedtalks_urls3['File ID'] = df_tedtalks_urls3['File ID'].astype('str')\n",
    "    \n",
    "    # Pad the values in the 'File ID' column with leading zeros to make them 6 digits\n",
    "    df_tedtalks_urls3['File ID'] = df_tedtalks_urls3['File ID'].str.zfill(6)\n",
    "    \n",
    "    # Getting the `TED Talks` URLs\n",
    "    # Retry mechanism setup\n",
    "    retry_strategy = Retry(\n",
    "        total=3,  # Retry up to 3 times\n",
    "        backoff_factor=2,  # Exponential backoff: wait 2s, 4s, 8s...\n",
    "        status_forcelist=[429, 500, 502, 503, 504],  # Retry on these HTTP error codes\n",
    "    )\n",
    "    adapter = HTTPAdapter(max_retries=retry_strategy)\n",
    "    http = requests.Session()\n",
    "    http.mount(\"https://\", adapter)\n",
    "    \n",
    "    # Loop through the DataFrame rows\n",
    "    for _, row in df_tedtalks_urls3.iterrows():\n",
    "        file_id = row['File ID']  # Get the File ID\n",
    "        url = row['TED Talks URL']  # Get the URL\n",
    "    \n",
    "        try:\n",
    "            # Log the start of the request\n",
    "            logging.info(f\"Fetching HTML for File ID: {file_id} from URL: {url}\")\n",
    "    \n",
    "            # Fetch the HTML content from the URL\n",
    "            response = http.get(url)\n",
    "            response.raise_for_status()  # Raise an exception for HTTP errors\n",
    "    \n",
    "            # Save the HTML content to a file in the 'html_talks' directory\n",
    "            file_path = os.path.join(html_talks_dir, f\"{file_id}.html\")\n",
    "            with open(file_path, 'w', encoding='utf-8') as html_file:\n",
    "                html_file.write(response.text)\n",
    "    \n",
    "            # Log success\n",
    "            logging.info(f\"Successfully saved HTML for File ID: {file_id} to {file_path}\")\n",
    "    \n",
    "        except requests.exceptions.RequestException as e:\n",
    "            # Log any failures or retries\n",
    "            logging.error(f\"Failed to fetch HTML for File ID: {file_id} from URL: {url}: {e}\")\n",
    "\n",
    "if __name__ == \"__main__\":\n",
    "    main()"
   ]
  },
  {
   "cell_type": "code",
   "execution_count": null,
   "id": "a5a06097-0636-4340-ba0c-3b0bca5abc33",
   "metadata": {},
   "outputs": [],
   "source": []
  }
 ],
 "metadata": {
  "kernelspec": {
   "display_name": "Python 3 (ipykernel)",
   "language": "python",
   "name": "python3"
  },
  "language_info": {
   "codemirror_mode": {
    "name": "ipython",
    "version": 3
   },
   "file_extension": ".py",
   "mimetype": "text/x-python",
   "name": "python",
   "nbconvert_exporter": "python",
   "pygments_lexer": "ipython3",
   "version": "3.10.12"
  }
 },
 "nbformat": 4,
 "nbformat_minor": 5
}
