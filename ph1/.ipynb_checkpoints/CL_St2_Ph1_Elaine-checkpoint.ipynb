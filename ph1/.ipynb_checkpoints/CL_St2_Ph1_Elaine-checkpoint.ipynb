{
 "cells": [
  {
   "cell_type": "markdown",
   "id": "810d9f10-ec19-4b09-8f90-e983e460b319",
   "metadata": {},
   "source": [
    "<center>\n",
    "<img src=\"https://laelgelcpublic.s3.sa-east-1.amazonaws.com/lael_50_years_narrow_white.png.no_years.400px_96dpi.png\" width=\"300\" alt=\"LAEL 50 years logo\">\n",
    "<h3>APPLIED LINGUISTICS GRADUATE PROGRAMME (LAEL)</h3>\n",
    "</center>\n",
    "<hr>"
   ]
  },
  {
   "cell_type": "markdown",
   "id": "888c2c96-2fc3-4a1a-995b-c388036a2a15",
   "metadata": {},
   "source": [
    "# Corpus Linguistics - Study 2 - Phase 1 - Elaine"
   ]
  },
  {
   "cell_type": "markdown",
   "id": "7a9c2af7-9fc1-4f51-a4f5-2ed915b93039",
   "metadata": {},
   "source": [
    "## [TED Talks](https://www.ted.com/talks) data extraction"
   ]
  },
  {
   "cell_type": "markdown",
   "id": "60552836-4e24-45fa-a537-692248055ea1",
   "metadata": {},
   "source": [
    "Considering the period 2020 to 2025 (raw data extracted on 14/03/2025 at 11:38 am Brasilia)."
   ]
  },
  {
   "cell_type": "markdown",
   "id": "a685d8b0-7715-45a6-9489-2d3db9b346c8",
   "metadata": {},
   "source": [
    "## Required Python packages"
   ]
  },
  {
   "cell_type": "markdown",
   "id": "c0e16e73-b1b9-4838-8cce-a29dc300868e",
   "metadata": {},
   "source": [
    "- beautifulsoup4\n",
    "- lxml\n",
    "- pandas"
   ]
  },
  {
   "cell_type": "markdown",
   "id": "aa922755-c4d6-4008-9aad-d35e33b18ed7",
   "metadata": {},
   "source": [
    "## Importing the required libraries"
   ]
  },
  {
   "cell_type": "code",
   "execution_count": 1,
   "id": "06ebcaf3-5b41-474c-9394-ebc8bec9005f",
   "metadata": {},
   "outputs": [],
   "source": [
    "from bs4 import BeautifulSoup\n",
    "import pandas as pd"
   ]
  },
  {
   "cell_type": "markdown",
   "id": "1c9a9a2a-6063-4a1e-b950-35fdb5021c1d",
   "metadata": {},
   "source": [
    "## Defining input variables"
   ]
  },
  {
   "cell_type": "code",
   "execution_count": 2,
   "id": "2d66d287-0440-4bf8-8fb0-a79835e733db",
   "metadata": {},
   "outputs": [],
   "source": [
    "input_directory = 'indexes'\n",
    "input_file = 'TED_7061_of_7061_20250314.html'"
   ]
  },
  {
   "cell_type": "markdown",
   "id": "f4ee0ddf-df80-445d-8ddf-3e08398a01cc",
   "metadata": {},
   "source": [
    "## Scraping the `TED Talks` URLs"
   ]
  },
  {
   "cell_type": "markdown",
   "id": "446a355a-598e-4f1e-bfda-e2af3592b693",
   "metadata": {},
   "source": [
    "### Scraping the input HTML file"
   ]
  },
  {
   "cell_type": "code",
   "execution_count": 3,
   "id": "de641236-0add-4836-88c0-f57f24fe558a",
   "metadata": {},
   "outputs": [],
   "source": [
    "with open(f'{input_directory}/{input_file}', 'r', encoding='utf8', newline='\\n') as html_doc:\n",
    "    soup = BeautifulSoup(html_doc, 'lxml')"
   ]
  },
  {
   "cell_type": "code",
   "execution_count": 4,
   "id": "422524ba-d3c0-4369-bb9c-aa4eaf0d0296",
   "metadata": {},
   "outputs": [],
   "source": [
    "# Find all 'a' tags with the class 'relative'\n",
    "tedtalks_urls = soup.find_all('a', class_='relative')"
   ]
  },
  {
   "cell_type": "code",
   "execution_count": 5,
   "id": "d497a024-6dcd-4334-b18c-a114b63cc45c",
   "metadata": {},
   "outputs": [],
   "source": [
    "# Extract the 'href' attribute of each link and store them in a list\n",
    "tedtalks_urls_list = [tedtalks_url.get('href') for tedtalks_url in tedtalks_urls if tedtalks_url.get('href')]"
   ]
  },
  {
   "cell_type": "markdown",
   "id": "172bcbb3-66f8-4038-9d37-dbd0685290d4",
   "metadata": {},
   "source": [
    "### Exporting the data into a DataFrame"
   ]
  },
  {
   "cell_type": "code",
   "execution_count": 6,
   "id": "3fcee3e8-c0a8-4136-b6e8-bffb7e72dc96",
   "metadata": {},
   "outputs": [],
   "source": [
    "# Create a Pandas DataFrame from the list of links\n",
    "df_tedtalks_urls1 = pd.DataFrame(tedtalks_urls_list, columns=['TED Talks URL'])\n",
    "\n",
    "# Filter the DataFrame to keep only rows where 'TED Talks URL' contains 'https://www.ted.com/talks/'\n",
    "df_tedtalks_urls1 = df_tedtalks_urls1[df_tedtalks_urls1['TED Talks URL'].str.contains('https://www.ted.com/talks/')]\n",
    "df_tedtalks_urls1 = df_tedtalks_urls1.reset_index(drop=True)"
   ]
  },
  {
   "cell_type": "code",
   "execution_count": 7,
   "id": "5b852ac0-6c2c-4c4f-b753-6047f530e91b",
   "metadata": {},
   "outputs": [],
   "source": [
    "# Append '/transcript?language=en' to each 'TED Talks URL'\n",
    "df_tedtalks_urls1['TED Talks URL'] = df_tedtalks_urls1['TED Talks URL'] + '/transcript?language=en'"
   ]
  },
  {
   "cell_type": "code",
   "execution_count": 8,
   "id": "527823c3-a548-488f-bd9b-bdf47321a2c6",
   "metadata": {},
   "outputs": [
    {
     "data": {
      "text/html": [
       "<div>\n",
       "<style scoped>\n",
       "    .dataframe tbody tr th:only-of-type {\n",
       "        vertical-align: middle;\n",
       "    }\n",
       "\n",
       "    .dataframe tbody tr th {\n",
       "        vertical-align: top;\n",
       "    }\n",
       "\n",
       "    .dataframe thead th {\n",
       "        text-align: right;\n",
       "    }\n",
       "</style>\n",
       "<table border=\"1\" class=\"dataframe\">\n",
       "  <thead>\n",
       "    <tr style=\"text-align: right;\">\n",
       "      <th></th>\n",
       "      <th>TED Talks URL</th>\n",
       "    </tr>\n",
       "  </thead>\n",
       "  <tbody>\n",
       "    <tr>\n",
       "      <th>0</th>\n",
       "      <td>https://www.ted.com/talks/nazzy_pakpour_this_i...</td>\n",
       "    </tr>\n",
       "    <tr>\n",
       "      <th>1</th>\n",
       "      <td>https://www.ted.com/talks/ryan_gilliam_a_concr...</td>\n",
       "    </tr>\n",
       "    <tr>\n",
       "      <th>2</th>\n",
       "      <td>https://www.ted.com/talks/sharon_zicherman_wha...</td>\n",
       "    </tr>\n",
       "    <tr>\n",
       "      <th>3</th>\n",
       "      <td>https://www.ted.com/talks/rachel_yang_how_gian...</td>\n",
       "    </tr>\n",
       "    <tr>\n",
       "      <th>4</th>\n",
       "      <td>https://www.ted.com/talks/leo_villareal_how_li...</td>\n",
       "    </tr>\n",
       "    <tr>\n",
       "      <th>...</th>\n",
       "      <td>...</td>\n",
       "    </tr>\n",
       "    <tr>\n",
       "      <th>7056</th>\n",
       "      <td>https://www.ted.com/talks/sir_ken_robinson_do_...</td>\n",
       "    </tr>\n",
       "    <tr>\n",
       "      <th>7057</th>\n",
       "      <td>https://www.ted.com/talks/majora_carter_greeni...</td>\n",
       "    </tr>\n",
       "    <tr>\n",
       "      <th>7058</th>\n",
       "      <td>https://www.ted.com/talks/david_pogue_simplici...</td>\n",
       "    </tr>\n",
       "    <tr>\n",
       "      <th>7059</th>\n",
       "      <td>https://www.ted.com/talks/al_gore_averting_the...</td>\n",
       "    </tr>\n",
       "    <tr>\n",
       "      <th>7060</th>\n",
       "      <td>https://www.ted.com/talks/lauren_taylor_the_ke...</td>\n",
       "    </tr>\n",
       "  </tbody>\n",
       "</table>\n",
       "<p>7061 rows × 1 columns</p>\n",
       "</div>"
      ],
      "text/plain": [
       "                                          TED Talks URL\n",
       "0     https://www.ted.com/talks/nazzy_pakpour_this_i...\n",
       "1     https://www.ted.com/talks/ryan_gilliam_a_concr...\n",
       "2     https://www.ted.com/talks/sharon_zicherman_wha...\n",
       "3     https://www.ted.com/talks/rachel_yang_how_gian...\n",
       "4     https://www.ted.com/talks/leo_villareal_how_li...\n",
       "...                                                 ...\n",
       "7056  https://www.ted.com/talks/sir_ken_robinson_do_...\n",
       "7057  https://www.ted.com/talks/majora_carter_greeni...\n",
       "7058  https://www.ted.com/talks/david_pogue_simplici...\n",
       "7059  https://www.ted.com/talks/al_gore_averting_the...\n",
       "7060  https://www.ted.com/talks/lauren_taylor_the_ke...\n",
       "\n",
       "[7061 rows x 1 columns]"
      ]
     },
     "execution_count": 8,
     "metadata": {},
     "output_type": "execute_result"
    }
   ],
   "source": [
    "df_tedtalks_urls1"
   ]
  },
  {
   "cell_type": "markdown",
   "id": "ec3362ea-0087-498a-917f-f4f146ffb810",
   "metadata": {},
   "source": [
    "### Inspecting a few rows"
   ]
  },
  {
   "cell_type": "code",
   "execution_count": 9,
   "id": "8d30f1ac-ce86-4242-a164-beac4ac5bce0",
   "metadata": {},
   "outputs": [
    {
     "data": {
      "text/plain": [
       "'https://www.ted.com/talks/miguel_goncalves_how_millennials_and_gen_z_can_invest_in_a_better_future/transcript?language=en'"
      ]
     },
     "execution_count": 9,
     "metadata": {},
     "output_type": "execute_result"
    }
   ],
   "source": [
    "df_tedtalks_urls1.loc[1000, 'TED Talks URL']"
   ]
  },
  {
   "cell_type": "markdown",
   "id": "62c8a4fc-3842-4aaa-9aa0-3c85f59a60ee",
   "metadata": {},
   "source": [
    "## Importing the previous study's `TED Talks` URLs"
   ]
  },
  {
   "cell_type": "code",
   "execution_count": 10,
   "id": "0060001d-0087-41e2-95a8-bd3cebb2f708",
   "metadata": {},
   "outputs": [],
   "source": [
    "# Read the CSV file into a DataFrame, specifying the TAB character as the delimiter\n",
    "df_tedtalks_urls2 = pd.read_csv('previous_study_valid_urls', delimiter='\\t', header=None)\n",
    "\n",
    "# Define the column name\n",
    "df_tedtalks_urls2.columns = ['File ID', 'TED Talks URL']"
   ]
  },
  {
   "cell_type": "code",
   "execution_count": 11,
   "id": "f63e0572-8435-433d-98ac-619716b135b4",
   "metadata": {},
   "outputs": [
    {
     "data": {
      "text/html": [
       "<div>\n",
       "<style scoped>\n",
       "    .dataframe tbody tr th:only-of-type {\n",
       "        vertical-align: middle;\n",
       "    }\n",
       "\n",
       "    .dataframe tbody tr th {\n",
       "        vertical-align: top;\n",
       "    }\n",
       "\n",
       "    .dataframe thead th {\n",
       "        text-align: right;\n",
       "    }\n",
       "</style>\n",
       "<table border=\"1\" class=\"dataframe\">\n",
       "  <thead>\n",
       "    <tr style=\"text-align: right;\">\n",
       "      <th></th>\n",
       "      <th>File ID</th>\n",
       "      <th>TED Talks URL</th>\n",
       "    </tr>\n",
       "  </thead>\n",
       "  <tbody>\n",
       "    <tr>\n",
       "      <th>0</th>\n",
       "      <td>1</td>\n",
       "      <td>https://www.ted.com/talks/alex_gendler_a_brief...</td>\n",
       "    </tr>\n",
       "    <tr>\n",
       "      <th>1</th>\n",
       "      <td>2</td>\n",
       "      <td>https://www.ted.com/talks/alex_gendler_a_day_i...</td>\n",
       "    </tr>\n",
       "    <tr>\n",
       "      <th>2</th>\n",
       "      <td>3</td>\n",
       "      <td>https://www.ted.com/talks/alex_gendler_can_you...</td>\n",
       "    </tr>\n",
       "    <tr>\n",
       "      <th>3</th>\n",
       "      <td>4</td>\n",
       "      <td>https://www.ted.com/talks/andrew_marantz_insid...</td>\n",
       "    </tr>\n",
       "    <tr>\n",
       "      <th>4</th>\n",
       "      <td>5</td>\n",
       "      <td>https://www.ted.com/talks/anne_f_broadbridge_t...</td>\n",
       "    </tr>\n",
       "    <tr>\n",
       "      <th>...</th>\n",
       "      <td>...</td>\n",
       "      <td>...</td>\n",
       "    </tr>\n",
       "    <tr>\n",
       "      <th>3974</th>\n",
       "      <td>3975</td>\n",
       "      <td>https://www.ted.com/talks/steve_truglia_a_leap...</td>\n",
       "    </tr>\n",
       "    <tr>\n",
       "      <th>3975</th>\n",
       "      <td>3976</td>\n",
       "      <td>https://www.ted.com/talks/stewart_brand_procla...</td>\n",
       "    </tr>\n",
       "    <tr>\n",
       "      <th>3976</th>\n",
       "      <td>3977</td>\n",
       "      <td>https://www.ted.com/talks/tom_wujec_on_3_ways_...</td>\n",
       "    </tr>\n",
       "    <tr>\n",
       "      <th>3977</th>\n",
       "      <td>3978</td>\n",
       "      <td>https://www.ted.com/talks/vishal_vaid_s_hypnot...</td>\n",
       "    </tr>\n",
       "    <tr>\n",
       "      <th>3978</th>\n",
       "      <td>3979</td>\n",
       "      <td>https://www.ted.com/talks/willard_wigan_hold_y...</td>\n",
       "    </tr>\n",
       "  </tbody>\n",
       "</table>\n",
       "<p>3979 rows × 2 columns</p>\n",
       "</div>"
      ],
      "text/plain": [
       "      File ID                                      TED Talks URL\n",
       "0           1  https://www.ted.com/talks/alex_gendler_a_brief...\n",
       "1           2  https://www.ted.com/talks/alex_gendler_a_day_i...\n",
       "2           3  https://www.ted.com/talks/alex_gendler_can_you...\n",
       "3           4  https://www.ted.com/talks/andrew_marantz_insid...\n",
       "4           5  https://www.ted.com/talks/anne_f_broadbridge_t...\n",
       "...       ...                                                ...\n",
       "3974     3975  https://www.ted.com/talks/steve_truglia_a_leap...\n",
       "3975     3976  https://www.ted.com/talks/stewart_brand_procla...\n",
       "3976     3977  https://www.ted.com/talks/tom_wujec_on_3_ways_...\n",
       "3977     3978  https://www.ted.com/talks/vishal_vaid_s_hypnot...\n",
       "3978     3979  https://www.ted.com/talks/willard_wigan_hold_y...\n",
       "\n",
       "[3979 rows x 2 columns]"
      ]
     },
     "execution_count": 11,
     "metadata": {},
     "output_type": "execute_result"
    }
   ],
   "source": [
    "df_tedtalks_urls2"
   ]
  },
  {
   "cell_type": "markdown",
   "id": "7b344c44-f45b-430f-9d03-862c509fba08",
   "metadata": {},
   "source": [
    "## Creating `df_tedtalks_urls3` by excluding rows from `df_tedtalks_urls1` that are present in `df_tedtalks_urls2`"
   ]
  },
  {
   "cell_type": "markdown",
   "id": "663b2900-190a-4f52-89ca-3f5dd95309df",
   "metadata": {},
   "source": [
    "The reason for this is to exclude any videos that were considered in the previous study."
   ]
  },
  {
   "cell_type": "code",
   "execution_count": 12,
   "id": "14450b8b-eae8-4256-8be7-0854877e1186",
   "metadata": {},
   "outputs": [],
   "source": [
    "df_tedtalks_urls3 = df_tedtalks_urls1[~df_tedtalks_urls1['TED Talks URL'].isin(df_tedtalks_urls2['TED Talks URL'])]\n",
    "df_tedtalks_urls3 = df_tedtalks_urls3.reset_index(drop=True)"
   ]
  },
  {
   "cell_type": "code",
   "execution_count": 13,
   "id": "576cce9a-e0e7-49b4-ad15-9df60dcd7385",
   "metadata": {},
   "outputs": [
    {
     "data": {
      "text/html": [
       "<div>\n",
       "<style scoped>\n",
       "    .dataframe tbody tr th:only-of-type {\n",
       "        vertical-align: middle;\n",
       "    }\n",
       "\n",
       "    .dataframe tbody tr th {\n",
       "        vertical-align: top;\n",
       "    }\n",
       "\n",
       "    .dataframe thead th {\n",
       "        text-align: right;\n",
       "    }\n",
       "</style>\n",
       "<table border=\"1\" class=\"dataframe\">\n",
       "  <thead>\n",
       "    <tr style=\"text-align: right;\">\n",
       "      <th></th>\n",
       "      <th>TED Talks URL</th>\n",
       "    </tr>\n",
       "  </thead>\n",
       "  <tbody>\n",
       "    <tr>\n",
       "      <th>0</th>\n",
       "      <td>https://www.ted.com/talks/nazzy_pakpour_this_i...</td>\n",
       "    </tr>\n",
       "    <tr>\n",
       "      <th>1</th>\n",
       "      <td>https://www.ted.com/talks/ryan_gilliam_a_concr...</td>\n",
       "    </tr>\n",
       "    <tr>\n",
       "      <th>2</th>\n",
       "      <td>https://www.ted.com/talks/sharon_zicherman_wha...</td>\n",
       "    </tr>\n",
       "    <tr>\n",
       "      <th>3</th>\n",
       "      <td>https://www.ted.com/talks/rachel_yang_how_gian...</td>\n",
       "    </tr>\n",
       "    <tr>\n",
       "      <th>4</th>\n",
       "      <td>https://www.ted.com/talks/leo_villareal_how_li...</td>\n",
       "    </tr>\n",
       "    <tr>\n",
       "      <th>...</th>\n",
       "      <td>...</td>\n",
       "    </tr>\n",
       "    <tr>\n",
       "      <th>4077</th>\n",
       "      <td>https://www.ted.com/talks/sir_ken_robinson_do_...</td>\n",
       "    </tr>\n",
       "    <tr>\n",
       "      <th>4078</th>\n",
       "      <td>https://www.ted.com/talks/majora_carter_greeni...</td>\n",
       "    </tr>\n",
       "    <tr>\n",
       "      <th>4079</th>\n",
       "      <td>https://www.ted.com/talks/david_pogue_simplici...</td>\n",
       "    </tr>\n",
       "    <tr>\n",
       "      <th>4080</th>\n",
       "      <td>https://www.ted.com/talks/al_gore_averting_the...</td>\n",
       "    </tr>\n",
       "    <tr>\n",
       "      <th>4081</th>\n",
       "      <td>https://www.ted.com/talks/lauren_taylor_the_ke...</td>\n",
       "    </tr>\n",
       "  </tbody>\n",
       "</table>\n",
       "<p>4082 rows × 1 columns</p>\n",
       "</div>"
      ],
      "text/plain": [
       "                                          TED Talks URL\n",
       "0     https://www.ted.com/talks/nazzy_pakpour_this_i...\n",
       "1     https://www.ted.com/talks/ryan_gilliam_a_concr...\n",
       "2     https://www.ted.com/talks/sharon_zicherman_wha...\n",
       "3     https://www.ted.com/talks/rachel_yang_how_gian...\n",
       "4     https://www.ted.com/talks/leo_villareal_how_li...\n",
       "...                                                 ...\n",
       "4077  https://www.ted.com/talks/sir_ken_robinson_do_...\n",
       "4078  https://www.ted.com/talks/majora_carter_greeni...\n",
       "4079  https://www.ted.com/talks/david_pogue_simplici...\n",
       "4080  https://www.ted.com/talks/al_gore_averting_the...\n",
       "4081  https://www.ted.com/talks/lauren_taylor_the_ke...\n",
       "\n",
       "[4082 rows x 1 columns]"
      ]
     },
     "execution_count": 13,
     "metadata": {},
     "output_type": "execute_result"
    }
   ],
   "source": [
    "df_tedtalks_urls3"
   ]
  },
  {
   "cell_type": "markdown",
   "id": "edee1c35-f9f3-4f76-87c5-cdadf4efefe9",
   "metadata": {},
   "source": [
    "### Creating the column 'File ID'"
   ]
  },
  {
   "cell_type": "code",
   "execution_count": 14,
   "id": "62a7b602-abbf-4507-9ef1-7d3900b9c301",
   "metadata": {},
   "outputs": [],
   "source": [
    "# Create the 'File ID' column starting from '000001'\n",
    "df_tedtalks_urls3['File ID'] = (df_tedtalks_urls3.index + 1).astype(str).str.zfill(6)"
   ]
  },
  {
   "cell_type": "code",
   "execution_count": 15,
   "id": "28ddd68e-9abc-4f0a-970f-0b90e12d4d68",
   "metadata": {},
   "outputs": [
    {
     "data": {
      "text/html": [
       "<div>\n",
       "<style scoped>\n",
       "    .dataframe tbody tr th:only-of-type {\n",
       "        vertical-align: middle;\n",
       "    }\n",
       "\n",
       "    .dataframe tbody tr th {\n",
       "        vertical-align: top;\n",
       "    }\n",
       "\n",
       "    .dataframe thead th {\n",
       "        text-align: right;\n",
       "    }\n",
       "</style>\n",
       "<table border=\"1\" class=\"dataframe\">\n",
       "  <thead>\n",
       "    <tr style=\"text-align: right;\">\n",
       "      <th></th>\n",
       "      <th>TED Talks URL</th>\n",
       "      <th>File ID</th>\n",
       "    </tr>\n",
       "  </thead>\n",
       "  <tbody>\n",
       "    <tr>\n",
       "      <th>0</th>\n",
       "      <td>https://www.ted.com/talks/nazzy_pakpour_this_i...</td>\n",
       "      <td>000001</td>\n",
       "    </tr>\n",
       "    <tr>\n",
       "      <th>1</th>\n",
       "      <td>https://www.ted.com/talks/ryan_gilliam_a_concr...</td>\n",
       "      <td>000002</td>\n",
       "    </tr>\n",
       "    <tr>\n",
       "      <th>2</th>\n",
       "      <td>https://www.ted.com/talks/sharon_zicherman_wha...</td>\n",
       "      <td>000003</td>\n",
       "    </tr>\n",
       "    <tr>\n",
       "      <th>3</th>\n",
       "      <td>https://www.ted.com/talks/rachel_yang_how_gian...</td>\n",
       "      <td>000004</td>\n",
       "    </tr>\n",
       "    <tr>\n",
       "      <th>4</th>\n",
       "      <td>https://www.ted.com/talks/leo_villareal_how_li...</td>\n",
       "      <td>000005</td>\n",
       "    </tr>\n",
       "    <tr>\n",
       "      <th>...</th>\n",
       "      <td>...</td>\n",
       "      <td>...</td>\n",
       "    </tr>\n",
       "    <tr>\n",
       "      <th>4077</th>\n",
       "      <td>https://www.ted.com/talks/sir_ken_robinson_do_...</td>\n",
       "      <td>004078</td>\n",
       "    </tr>\n",
       "    <tr>\n",
       "      <th>4078</th>\n",
       "      <td>https://www.ted.com/talks/majora_carter_greeni...</td>\n",
       "      <td>004079</td>\n",
       "    </tr>\n",
       "    <tr>\n",
       "      <th>4079</th>\n",
       "      <td>https://www.ted.com/talks/david_pogue_simplici...</td>\n",
       "      <td>004080</td>\n",
       "    </tr>\n",
       "    <tr>\n",
       "      <th>4080</th>\n",
       "      <td>https://www.ted.com/talks/al_gore_averting_the...</td>\n",
       "      <td>004081</td>\n",
       "    </tr>\n",
       "    <tr>\n",
       "      <th>4081</th>\n",
       "      <td>https://www.ted.com/talks/lauren_taylor_the_ke...</td>\n",
       "      <td>004082</td>\n",
       "    </tr>\n",
       "  </tbody>\n",
       "</table>\n",
       "<p>4082 rows × 2 columns</p>\n",
       "</div>"
      ],
      "text/plain": [
       "                                          TED Talks URL File ID\n",
       "0     https://www.ted.com/talks/nazzy_pakpour_this_i...  000001\n",
       "1     https://www.ted.com/talks/ryan_gilliam_a_concr...  000002\n",
       "2     https://www.ted.com/talks/sharon_zicherman_wha...  000003\n",
       "3     https://www.ted.com/talks/rachel_yang_how_gian...  000004\n",
       "4     https://www.ted.com/talks/leo_villareal_how_li...  000005\n",
       "...                                                 ...     ...\n",
       "4077  https://www.ted.com/talks/sir_ken_robinson_do_...  004078\n",
       "4078  https://www.ted.com/talks/majora_carter_greeni...  004079\n",
       "4079  https://www.ted.com/talks/david_pogue_simplici...  004080\n",
       "4080  https://www.ted.com/talks/al_gore_averting_the...  004081\n",
       "4081  https://www.ted.com/talks/lauren_taylor_the_ke...  004082\n",
       "\n",
       "[4082 rows x 2 columns]"
      ]
     },
     "execution_count": 15,
     "metadata": {},
     "output_type": "execute_result"
    }
   ],
   "source": [
    "df_tedtalks_urls3"
   ]
  },
  {
   "cell_type": "markdown",
   "id": "25ebf5fe-12f0-48aa-b635-733c53e03fca",
   "metadata": {},
   "source": [
    "## Creating the file `valid_urls`"
   ]
  },
  {
   "cell_type": "code",
   "execution_count": 16,
   "id": "5e1092a4-de17-4674-9555-a0980893cf17",
   "metadata": {},
   "outputs": [],
   "source": [
    "df_tedtalks_urls3[['File ID', 'TED Talks URL']].to_csv('valid_urls', sep='\\t', index=False, header=False, encoding='utf-8', lineterminator='\\n')"
   ]
  },
  {
   "cell_type": "markdown",
   "id": "0c579cb6-4f53-4b04-a94d-f5ae6c0ca151",
   "metadata": {},
   "source": [
    "## Exporting to a `JSONL` file"
   ]
  },
  {
   "cell_type": "code",
   "execution_count": 17,
   "id": "a49f6b0b-8f3a-421a-ae97-35c92238fec0",
   "metadata": {},
   "outputs": [],
   "source": [
    "df_tedtalks_urls3[['File ID', 'TED Talks URL']].to_json('df_tedtalks_urls3.jsonl', orient='records', lines=True)"
   ]
  },
  {
   "cell_type": "code",
   "execution_count": 18,
   "id": "227bd60c-2ddb-42fb-bdd4-e3a134d0c543",
   "metadata": {},
   "outputs": [
    {
     "data": {
      "text/plain": [
       "TED Talks URL    object\n",
       "File ID          object\n",
       "dtype: object"
      ]
     },
     "execution_count": 18,
     "metadata": {},
     "output_type": "execute_result"
    }
   ],
   "source": [
    "df_tedtalks_urls3.dtypes"
   ]
  },
  {
   "cell_type": "markdown",
   "id": "37920da1-47f8-4e22-8dfd-1018a14af5ca",
   "metadata": {},
   "source": [
    "## Adapting the programme for command line"
   ]
  },
  {
   "cell_type": "markdown",
   "id": "dcf37df5-0e34-48c6-ae95-1615a265e04f",
   "metadata": {},
   "source": [
    "The programme was named `buildurls.py`."
   ]
  },
  {
   "cell_type": "code",
   "execution_count": null,
   "id": "e6bdab42-660a-4f41-90ac-3ba862dc0c8b",
   "metadata": {},
   "outputs": [],
   "source": [
    "from bs4 import BeautifulSoup\n",
    "import pandas as pd\n",
    "\n",
    "def main():\n",
    "    # Defining input variables\n",
    "    input_directory = 'indexes'\n",
    "    input_file = 'TED_7061_of_7061_20250314.html'\n",
    "\n",
    "    # Scraping the 'TED Talks' URLs\n",
    "    with open(f'{input_directory}/{input_file}', 'r', encoding='utf8', newline='\\n') as html_doc:\n",
    "        soup = BeautifulSoup(html_doc, 'lxml')\n",
    "\n",
    "    # Find all 'a' tags with the class 'relative'\n",
    "    tedtalks_urls = soup.find_all('a', class_='relative')\n",
    "\n",
    "    # Extract the 'href' attribute of each link and store them in a list\n",
    "    tedtalks_urls_list = [tedtalks_url.get('href') for tedtalks_url in tedtalks_urls if tedtalks_url.get('href')]\n",
    "\n",
    "    # Create a Pandas DataFrame from the list of links\n",
    "    df_tedtalks_urls1 = pd.DataFrame(tedtalks_urls_list, columns=['TED Talks URL'])\n",
    "\n",
    "    # Filter the DataFrame to keep only rows where 'TED Talks URL' contains 'https://www.ted.com/talks/'\n",
    "    df_tedtalks_urls1 = df_tedtalks_urls1[df_tedtalks_urls1['TED Talks URL'].str.contains('https://www.ted.com/talks/')]\n",
    "    df_tedtalks_urls1 = df_tedtalks_urls1.reset_index(drop=True)\n",
    "\n",
    "    # Append '/transcript?language=en' to each 'TED Talks URL'\n",
    "    df_tedtalks_urls1['TED Talks URL'] = df_tedtalks_urls1['TED Talks URL'] + '/transcript?language=en'\n",
    "\n",
    "    # Importing the previous study's TED Talks URLs\n",
    "    df_tedtalks_urls2 = pd.read_csv('previous_study_valid_urls', delimiter='\\t', header=None)\n",
    "    df_tedtalks_urls2.columns = ['File ID', 'TED Talks URL']\n",
    "\n",
    "    # Creating df_tedtalks_urls3 by excluding rows from df_tedtalks_urls1 that are present in df_tedtalks_urls2\n",
    "    df_tedtalks_urls3 = df_tedtalks_urls1[~df_tedtalks_urls1['TED Talks URL'].isin(df_tedtalks_urls2['TED Talks URL'])]\n",
    "    df_tedtalks_urls3 = df_tedtalks_urls3.reset_index(drop=True)\n",
    "\n",
    "    # Create the 'File ID' column starting from '000001'\n",
    "    df_tedtalks_urls3['File ID'] = (df_tedtalks_urls3.index + 1).astype(str).str.zfill(6)\n",
    "\n",
    "    # Creating the file 'valid_urls'\n",
    "    df_tedtalks_urls3[['File ID', 'TED Talks URL']].to_csv('valid_urls', sep='\\t', index=False, header=False, encoding='utf-8', lineterminator='\\n')\n",
    "\n",
    "if __name__ == \"__main__\":\n",
    "    main()"
   ]
  },
  {
   "cell_type": "code",
   "execution_count": null,
   "id": "668b247a-53f4-415d-8358-8143df36ec4e",
   "metadata": {},
   "outputs": [],
   "source": []
  }
 ],
 "metadata": {
  "kernelspec": {
   "display_name": "Python 3 (ipykernel)",
   "language": "python",
   "name": "python3"
  },
  "language_info": {
   "codemirror_mode": {
    "name": "ipython",
    "version": 3
   },
   "file_extension": ".py",
   "mimetype": "text/x-python",
   "name": "python",
   "nbconvert_exporter": "python",
   "pygments_lexer": "ipython3",
   "version": "3.10.12"
  }
 },
 "nbformat": 4,
 "nbformat_minor": 5
}
